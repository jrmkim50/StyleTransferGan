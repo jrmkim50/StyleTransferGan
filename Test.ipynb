{
 "cells": [
  {
   "cell_type": "code",
   "execution_count": 7,
   "id": "1f1832c9",
   "metadata": {},
   "outputs": [
    {
     "name": "stdout",
     "output_type": "stream",
     "text": [
      "number of GPU: 2\n",
      "Train stats: [0.         5.85545083]\n",
      "Number of training patches per epoch: 960\n",
      "Number of validation patches per epoch: 64\n",
      "Start training :) \n"
     ]
    }
   ],
   "source": [
    "import sys\n",
    "import os\n",
    "import torch\n",
    "import torch.optim as optim\n",
    "import torch.nn as nn\n",
    "from generators import *\n",
    "from discriminators import *\n",
    "from utils.NiftiDataset import *\n",
    "import utils.NiftiDataset as NiftiDataset\n",
    "from torch.utils.data import DataLoader\n",
    "from init import Options\n",
    "from utils.utils import *\n",
    "import nibabel as nib\n",
    "import matplotlib.pyplot as plt\n",
    "\n",
    "\n",
    "# -----  Loading the init options -----\n",
    "\n",
    "batch_size=4\n",
    "checkpoints_dir='./checkpoints'\n",
    "data_path='./Data_folder/train' \n",
    "direction='image_to_label'\n",
    "discriminatorLR=0.0002\n",
    "discriminatorWeights='./checkpoints/d.pth'\n",
    "drop_ratio=0\n",
    "epoch_count=1\n",
    "generatorLR=0.0002\n",
    "generatorWeights='./checkpoints/g.pth'\n",
    "gpu_ids='1,7'\n",
    "image=None\n",
    "img_channel=1\n",
    "increase_factor_data=5\n",
    "lamb=100\n",
    "lr_decay_iters=50\n",
    "lr_policy='lambda'\n",
    "min_pixel=1\n",
    "multi_gpu=None\n",
    "ndf=128\n",
    "netD='PatchGAN'\n",
    "netG='Unet'\n",
    "new_resolution=(0.6, 0.6, 2.5)\n",
    "ngf=64\n",
    "niter=100\n",
    "niter_decay=100\n",
    "output='./checkpoints/'\n",
    "patch_size=[64, 64, 64]\n",
    "resample=False\n",
    "result=None\n",
    "resume=0\n",
    "save_fre=25\n",
    "stride_inplane=32\n",
    "stride_layer=16\n",
    "val_path='./Data_folder/test/'\n",
    "weights=None\n",
    "workers=8\n",
    "\n",
    "min_pixel = int(min_pixel * ((patch_size[0] * patch_size[1] * patch_size[2]) / 100))\n",
    "\n",
    "if gpu_ids != '-1':\n",
    "    num_gpus = len(gpu_ids.split(','))\n",
    "else:\n",
    "    num_gpus = 0\n",
    "print('number of GPU:', num_gpus)\n",
    "# -------------------------------------\n",
    "\n",
    "\n",
    "\n",
    "# -----  Loading the list of data -----\n",
    "train_list = create_list(data_path)\n",
    "val_list = create_list(val_path)\n",
    "\n",
    "for i in range(increase_factor_data):  # augment the data list for training\n",
    "\n",
    "    train_list.extend(train_list)\n",
    "    val_list.extend(val_list)\n",
    "\n",
    "create_train_stats = False\n",
    "\n",
    "if create_train_stats:\n",
    "    train_labels = []\n",
    "    for folder in os.listdir(data_path):\n",
    "        if not folder.startswith(\"patient\"): \n",
    "            continue\n",
    "        label_data = nib.load(os.path.join(data_path, os.path.join(folder, \"label.nii\"))).get_fdata()\n",
    "        train_labels.append(label_data)\n",
    "    train_labels = np.array(train_labels)\n",
    "    train_stats = np.array([train_labels.mean(), train_labels.std()])\n",
    "    np.save(\"utils/train_stats.npy\", train_stats)\n",
    "else:\n",
    "    train_stats = np.load(\"utils/train_stats.npy\")\n",
    "\n",
    "print('Train stats:', train_stats)    \n",
    "print('Number of training patches per epoch:', len(train_list))\n",
    "print('Number of validation patches per epoch:', len(val_list))\n",
    "# -------------------------------------\n",
    "\n",
    "\n",
    "\n",
    "\n",
    "# -----  Transformation and Augmentation process for the data  -----\n",
    "trainTransforms = [\n",
    "            NiftiDataset.Augmentation(),\n",
    "            NiftiDataset.Padding((patch_size[0], patch_size[1], patch_size[2])),\n",
    "            NiftiDataset.RandomCrop((patch_size[0], patch_size[1], patch_size[2]), drop_ratio, min_pixel),\n",
    "            ]\n",
    "\n",
    "train_set = NifitDataSet(train_list, direction=direction, transforms=trainTransforms, train=True, stats=train_stats) \n",
    "train_loader = DataLoader(train_set, batch_size=batch_size, shuffle=True, num_workers=workers)\n",
    "# -------------------------------------\n",
    "\n",
    "\n",
    "\n",
    "\n",
    "\n",
    "# -----  Creating the Generator and discriminator -----\n",
    "\n",
    "\n",
    "\n",
    "\n",
    "\n",
    "criterionMSE = nn.MSELoss()  # nn.MSELoss()\n",
    "criterionGAN = GANLoss()\n",
    "criterion_pixelwise = nn.L1Loss()\n",
    "\n",
    "\n",
    "\n",
    "\n",
    "# -----  Training Cycle -----\n",
    "print('Start training :) ')\n",
    "epoch_count = epoch_count\n",
    "mean_generator_total_loss = 0.0\n",
    "mean_discriminator_loss = 0.0\n",
    "\n",
    "for batch_idx, (data, label) in enumerate(train_loader):\n",
    "    break"
   ]
  },
  {
   "cell_type": "code",
   "execution_count": 8,
   "id": "3c34c9b8",
   "metadata": {},
   "outputs": [
    {
     "data": {
      "text/plain": [
       "(tensor(2.2952), tensor(-0.1053), tensor(0.0074), tensor(0.0458))"
      ]
     },
     "execution_count": 8,
     "metadata": {},
     "output_type": "execute_result"
    }
   ],
   "source": [
    "label.max(), label.min(), label.mean(), label.std()"
   ]
  },
  {
   "cell_type": "code",
   "execution_count": 12,
   "id": "faf37f98",
   "metadata": {},
   "outputs": [
    {
     "data": {
      "text/plain": [
       "<matplotlib.colorbar.Colorbar at 0x7f5c342d36d8>"
      ]
     },
     "execution_count": 12,
     "metadata": {},
     "output_type": "execute_result"
    },
    {
     "data": {
      "image/png": "[encoded data removed]",
      "text/plain": [
       "<Figure size 432x288 with 2 Axes>"
      ]
     },
     "metadata": {
      "needs_background": "light"
     },
     "output_type": "display_data"
    }
   ],
   "source": [
    "plt.imshow(label.cpu().detach().numpy()[0,0,:,40,:])\n",
    "plt.colorbar()"
   ]
  },
  {
   "cell_type": "code",
   "execution_count": 11,
   "id": "1420a59d",
   "metadata": {},
   "outputs": [
    {
     "data": {
      "text/plain": [
       "<matplotlib.colorbar.Colorbar at 0x7f5c34399828>"
      ]
     },
     "execution_count": 11,
     "metadata": {},
     "output_type": "execute_result"
    },
    {
     "data": {
      "image/png": "[encoded data removed]",
      "text/plain": [
       "<Figure size 432x288 with 2 Axes>"
      ]
     },
     "metadata": {
      "needs_background": "light"
     },
     "output_type": "display_data"
    }
   ],
   "source": [
    "plt.imshow(data.cpu().detach().numpy()[0,0,:,40,:])\n",
    "plt.colorbar()"
   ]
  },
  {
   "cell_type": "code",
   "execution_count": 19,
   "id": "989a6e9e",
   "metadata": {},
   "outputs": [],
   "source": [
    "ref_data = nib.load(os.path.join(data_path, os.path.join(\"patient_1\", \"label.nii\"))).get_fdata()"
   ]
  },
  {
   "cell_type": "code",
   "execution_count": 22,
   "id": "9ca7e852",
   "metadata": {},
   "outputs": [
    {
     "data": {
      "text/plain": [
       "(0.0, 5.550989627838135)"
      ]
     },
     "execution_count": 22,
     "metadata": {},
     "output_type": "execute_result"
    }
   ],
   "source": [
    "ref_data.min(), ref_data.max()"
   ]
  },
  {
   "cell_type": "code",
   "execution_count": 21,
   "id": "bc434fb6",
   "metadata": {},
   "outputs": [],
   "source": [
    "ref2 = (ref_data - ref_data.min()) / (ref_data.max() - ref_data.min())"
   ]
  },
  {
   "cell_type": "code",
   "execution_count": 31,
   "id": "5559cc99",
   "metadata": {},
   "outputs": [],
   "source": [
    "label_data = nib.load(os.path.join(data_path, os.path.join(\"patient_0\", \"label.nii\"))).get_fdata()"
   ]
  },
  {
   "cell_type": "code",
   "execution_count": 32,
   "id": "7617f2aa",
   "metadata": {},
   "outputs": [
    {
     "data": {
      "text/plain": [
       "(4.69003963470459, 0.0)"
      ]
     },
     "execution_count": 32,
     "metadata": {},
     "output_type": "execute_result"
    }
   ],
   "source": [
    "label_data.max(), label_data.min()"
   ]
  },
  {
   "cell_type": "code",
   "execution_count": 33,
   "id": "77073fa7",
   "metadata": {},
   "outputs": [],
   "source": [
    "label_data = (label_data - ref_data.min()) / (ref_data.max() - ref_data.min())\n",
    "# label_data = (label_data - ref2.mean()) / ref2.std()"
   ]
  },
  {
   "cell_type": "code",
   "execution_count": 34,
   "id": "5ad926c3",
   "metadata": {},
   "outputs": [
    {
     "data": {
      "text/plain": [
       "0.0"
      ]
     },
     "execution_count": 34,
     "metadata": {},
     "output_type": "execute_result"
    }
   ],
   "source": [
    "label_data.min()"
   ]
  },
  {
   "cell_type": "code",
   "execution_count": 35,
   "id": "759c68c4",
   "metadata": {},
   "outputs": [
    {
     "data": {
      "text/plain": [
       "<matplotlib.colorbar.Colorbar at 0x7fb61333d780>"
      ]
     },
     "execution_count": 35,
     "metadata": {},
     "output_type": "execute_result"
    },
    {
     "data": {
      "image/png": "[encoded data removed]",
      "text/plain": [
       "<Figure size 432x288 with 2 Axes>"
      ]
     },
     "metadata": {
      "needs_background": "light"
     },
     "output_type": "display_data"
    }
   ],
   "source": [
    "plt.imshow(label_data[30,:,:])\n",
    "plt.colorbar()"
   ]
  },
  {
   "cell_type": "code",
   "execution_count": null,
   "id": "5c7f9482",
   "metadata": {},
   "outputs": [],
   "source": []
  }
 ],
 "metadata": {
  "kernelspec": {
   "display_name": "Python 3",
   "language": "python",
   "name": "python3"
  },
  "language_info": {
   "codemirror_mode": {
    "name": "ipython",
    "version": 3
   },
   "file_extension": ".py",
   "mimetype": "text/x-python",
   "name": "python",
   "nbconvert_exporter": "python",
   "pygments_lexer": "ipython3",
   "version": "3.6.8"
  }
 },
 "nbformat": 4,
 "nbformat_minor": 5
}
